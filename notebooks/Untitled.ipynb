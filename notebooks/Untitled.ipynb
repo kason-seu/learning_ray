{
 "cells": [
  {
   "cell_type": "code",
   "execution_count": 1,
   "id": "43adb36f-46ea-471c-a69e-33cc4e164a9b",
   "metadata": {},
   "outputs": [
    {
     "name": "stdout",
     "output_type": "stream",
     "text": [
      "Requirement already satisfied: ray==2.2.0 in /home/kython/miniconda3/envs/rayenv/lib/python3.10/site-packages (2.2.0)\n",
      "Requirement already satisfied: attrs in /home/kython/miniconda3/envs/rayenv/lib/python3.10/site-packages (from ray==2.2.0) (23.2.0)\n",
      "Requirement already satisfied: click>=7.0 in /home/kython/miniconda3/envs/rayenv/lib/python3.10/site-packages (from ray==2.2.0) (8.1.7)\n",
      "Requirement already satisfied: filelock in /home/kython/miniconda3/envs/rayenv/lib/python3.10/site-packages (from ray==2.2.0) (3.15.3)\n",
      "Requirement already satisfied: jsonschema in /home/kython/miniconda3/envs/rayenv/lib/python3.10/site-packages (from ray==2.2.0) (4.22.0)\n",
      "Requirement already satisfied: msgpack<2.0.0,>=1.0.0 in /home/kython/miniconda3/envs/rayenv/lib/python3.10/site-packages (from ray==2.2.0) (1.0.8)\n",
      "Requirement already satisfied: protobuf!=3.19.5,>=3.15.3 in /home/kython/miniconda3/envs/rayenv/lib/python3.10/site-packages (from ray==2.2.0) (4.25.3)\n",
      "Requirement already satisfied: pyyaml in /home/kython/miniconda3/envs/rayenv/lib/python3.10/site-packages (from ray==2.2.0) (6.0.1)\n",
      "Requirement already satisfied: aiosignal in /home/kython/miniconda3/envs/rayenv/lib/python3.10/site-packages (from ray==2.2.0) (1.3.1)\n",
      "Requirement already satisfied: frozenlist in /home/kython/miniconda3/envs/rayenv/lib/python3.10/site-packages (from ray==2.2.0) (1.4.1)\n",
      "Requirement already satisfied: requests in /home/kython/miniconda3/envs/rayenv/lib/python3.10/site-packages (from ray==2.2.0) (2.31.0)\n",
      "Requirement already satisfied: virtualenv>=20.0.24 in /home/kython/miniconda3/envs/rayenv/lib/python3.10/site-packages (from ray==2.2.0) (20.26.3)\n",
      "Requirement already satisfied: grpcio>=1.42.0 in /home/kython/miniconda3/envs/rayenv/lib/python3.10/site-packages (from ray==2.2.0) (1.64.1)\n",
      "Requirement already satisfied: packaging in /home/kython/miniconda3/envs/rayenv/lib/python3.10/site-packages (from ray==2.2.0) (24.0)\n",
      "Requirement already satisfied: numpy>=1.19.3 in /home/kython/miniconda3/envs/rayenv/lib/python3.10/site-packages (from ray==2.2.0) (1.26.4)\n",
      "Requirement already satisfied: distlib<1,>=0.3.7 in /home/kython/miniconda3/envs/rayenv/lib/python3.10/site-packages (from virtualenv>=20.0.24->ray==2.2.0) (0.3.8)\n",
      "Requirement already satisfied: platformdirs<5,>=3.9.1 in /home/kython/miniconda3/envs/rayenv/lib/python3.10/site-packages (from virtualenv>=20.0.24->ray==2.2.0) (4.2.2)\n",
      "Requirement already satisfied: jsonschema-specifications>=2023.03.6 in /home/kython/miniconda3/envs/rayenv/lib/python3.10/site-packages (from jsonschema->ray==2.2.0) (2023.12.1)\n",
      "Requirement already satisfied: referencing>=0.28.4 in /home/kython/miniconda3/envs/rayenv/lib/python3.10/site-packages (from jsonschema->ray==2.2.0) (0.35.1)\n",
      "Requirement already satisfied: rpds-py>=0.7.1 in /home/kython/miniconda3/envs/rayenv/lib/python3.10/site-packages (from jsonschema->ray==2.2.0) (0.18.1)\n",
      "Requirement already satisfied: charset-normalizer<4,>=2 in /home/kython/miniconda3/envs/rayenv/lib/python3.10/site-packages (from requests->ray==2.2.0) (3.3.2)\n",
      "Requirement already satisfied: idna<4,>=2.5 in /home/kython/miniconda3/envs/rayenv/lib/python3.10/site-packages (from requests->ray==2.2.0) (3.6)\n",
      "Requirement already satisfied: urllib3<3,>=1.21.1 in /home/kython/miniconda3/envs/rayenv/lib/python3.10/site-packages (from requests->ray==2.2.0) (2.2.1)\n",
      "Requirement already satisfied: certifi>=2017.4.17 in /home/kython/miniconda3/envs/rayenv/lib/python3.10/site-packages (from requests->ray==2.2.0) (2024.2.2)\n"
     ]
    }
   ],
   "source": [
    "! pip install \"ray==2.2.0\""
   ]
  },
  {
   "cell_type": "code",
   "execution_count": 5,
   "id": "09a6cf2c-bbce-4d43-8bf1-fdeee96de0c8",
   "metadata": {},
   "outputs": [
    {
     "name": "stdout",
     "output_type": "stream",
     "text": [
      "0\n"
     ]
    }
   ],
   "source": [
    "import random\n",
    "class Discrete:\n",
    "\n",
    "    def __init__(self, num_actions:int):\n",
    "        self.n = num_actions\n",
    "\n",
    "    def sample(self):\n",
    "        return random.randint(0, self.n - 1)\n",
    "\n",
    "\n",
    "d = Discrete(4)\n",
    "print(d.sample())"
   ]
  },
  {
   "cell_type": "code",
   "execution_count": null,
   "id": "fb9e1340-8c58-4b48-8097-85ad4836ccc3",
   "metadata": {},
   "outputs": [],
   "source": []
  }
 ],
 "metadata": {
  "kernelspec": {
   "display_name": "Python 3 (ipykernel)",
   "language": "python",
   "name": "python3"
  },
  "language_info": {
   "codemirror_mode": {
    "name": "ipython",
    "version": 3
   },
   "file_extension": ".py",
   "mimetype": "text/x-python",
   "name": "python",
   "nbconvert_exporter": "python",
   "pygments_lexer": "ipython3",
   "version": "3.10.14"
  }
 },
 "nbformat": 4,
 "nbformat_minor": 5
}
